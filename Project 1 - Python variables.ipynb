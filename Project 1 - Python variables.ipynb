{
 "cells": [
  {
   "cell_type": "markdown",
   "id": "532abdd4",
   "metadata": {},
   "source": [
    "# <h1><center>Project 1: Python variables</h1></center>"
   ]
  },
  {
   "cell_type": "markdown",
   "id": "ba08f84b",
   "metadata": {},
   "source": [
    "## Explore the Problem with Immutable vs. Mutable Objects"
   ]
  },
  {
   "cell_type": "markdown",
   "id": "bc49d022",
   "metadata": {},
   "source": [
    "Project tasks:\n",
    "\n",
    "1. Write code to discover the extent of the puzzling behavior, creating and modifying pairs of variables with different types in Python.\n",
    "\n",
    "> Include variable types like int, float, str, list, tuple, and dict.\n",
    "\n",
    "> Create one variable, then create a second variable that is equal to the first.\n",
    "\n",
    "> Change one of the two variables and see what happens. If the type allows it, try changing both the contents (an element in a list or dictionary) as well as setting it equal to a new object.\n",
    "\n",
    "2. State your understanding of the ways Python variables behave."
   ]
  },
  {
   "cell_type": "markdown",
   "id": "70019a9f",
   "metadata": {},
   "source": [
    "### Python data types"
   ]
  },
  {
   "cell_type": "markdown",
   "id": "f5d57748",
   "metadata": {},
   "source": [
    "Python has multiple way of describing data types, each type has its own function and syntax. However, to understand how variables work, we need a clear understanding what immutable and mutable variables bring to the table. \n",
    "\n",
    ">Immutable variables are variables that **cannot** change. "
   ]
  },
  {
   "cell_type": "markdown",
   "id": "58d87dcc",
   "metadata": {},
   "source": [
    "**int** (*integer*):\n",
    "\n",
    ">  is a *immutable* object that resembles numbers that is no fraction. (ex. 3, 0, 100)"
   ]
  },
  {
   "cell_type": "code",
   "execution_count": 1,
   "id": "88ce0f9e",
   "metadata": {},
   "outputs": [
    {
     "name": "stdout",
     "output_type": "stream",
     "text": [
      "The variable a is <class 'int'> and the initial value of a is 2.\n",
      "The new value for b is 3, which is also <class 'int'>\n"
     ]
    }
   ],
   "source": [
    "a = 2\n",
    "b = a\n",
    "b = 3\n",
    "\n",
    "print(f'The variable a is {type(a)} and the initial value of a is {a}.\\nThe new value for b is {b}, which is also {type(b)}')\n",
    "\n",
    "# delete variables from the global environment\n",
    "del(a, b)"
   ]
  },
  {
   "cell_type": "markdown",
   "id": "6ea64130",
   "metadata": {},
   "source": [
    "**float**\n",
    "\n",
    "> is a *immutable* object that resembles a fraction of a whole number (ex. 2.5, 0.23, 100.1)  "
   ]
  },
  {
   "cell_type": "code",
   "execution_count": 2,
   "id": "84ff076a",
   "metadata": {},
   "outputs": [
    {
     "name": "stdout",
     "output_type": "stream",
     "text": [
      "the variable a is <class 'float'> and the initial value of a is 2.5.\n",
      "The new value for b is 0.25, which is also <class 'float'>\n"
     ]
    }
   ],
   "source": [
    "a = 2.5\n",
    "b = a\n",
    "b = 0.25\n",
    "\n",
    "print(f'the variable a is {type(a)} and the initial value of a is {a}.\\nThe new value for b is {b}, which is also {type(b)}')\n",
    "\n",
    "# delete variables from the global environment\n",
    "del(a, b)"
   ]
  },
  {
   "cell_type": "markdown",
   "id": "228fc577",
   "metadata": {},
   "source": [
    "**str** (*string*)\n",
    "\n",
    "> Python strings are *immutable* and takes unicode characters as its contents"
   ]
  },
  {
   "cell_type": "code",
   "execution_count": 3,
   "id": "5d6d3a8d",
   "metadata": {
    "scrolled": true
   },
   "outputs": [
    {
     "name": "stdout",
     "output_type": "stream",
     "text": [
      "the variable a is <class 'str'> and the initial value of a is 'This is a string'.\n",
      "The new value for b is 1, which is also <class 'int'>\n",
      "\n",
      "\n",
      "If we want we can change the value of b into 1 which is a  <class 'int'>\n",
      "(same can be done for floats)\n"
     ]
    }
   ],
   "source": [
    "a = \"'This is a string'\"\n",
    "b = a\n",
    "b = \"'something new'\"\n",
    "b = 1\n",
    "\n",
    "\n",
    "print(f'the variable a is {type(a)} and the initial value of a is {a}.\\nThe new value for b is {b}, which is also {type(b)}\\n\\n')\n",
    "\n",
    "print(f'If we want we can change the value of b into {b} which is a  {type(b)}\\n(same can be done for floats)')\n",
    "# delete variables from the global environment\n",
    "del(a, b)"
   ]
  },
  {
   "cell_type": "markdown",
   "id": "033efc3f",
   "metadata": {},
   "source": [
    "**List**\n",
    "\n",
    "> A list is a mutable object which can take multiple values varying from int, float and strings)"
   ]
  },
  {
   "cell_type": "code",
   "execution_count": 4,
   "id": "78a044a3",
   "metadata": {},
   "outputs": [
    {
     "name": "stdout",
     "output_type": "stream",
     "text": [
      "['cat', 'dog', 2.5] ['cat', 'dog', 2.5]\n"
     ]
    }
   ],
   "source": [
    "a = [1, 'dog', 2.5]\n",
    "b = a\n",
    "b[0] = 'cat'\n",
    "\n",
    "print(a, b)\n",
    "\n",
    "# delete variables from the global environment\n",
    "del(a, b)"
   ]
  },
  {
   "cell_type": "markdown",
   "id": "0c24d134",
   "metadata": {},
   "source": [
    "**Tuple**\n",
    "\n",
    "> Tuples are used to store multiple items in a single variable\n",
    "\n",
    "> A tuple is a collection which is ordered and unchangeable"
   ]
  },
  {
   "cell_type": "code",
   "execution_count": 15,
   "id": "f03e0bd1",
   "metadata": {
    "scrolled": true
   },
   "outputs": [
    {
     "name": "stdout",
     "output_type": "stream",
     "text": [
      "(1, 'dog', 2.5) ['cat', 'dog', 2.5]\n"
     ]
    }
   ],
   "source": [
    "a = (1, 'dog', 2.5)\n",
    "b = a\n",
    "# b[0] = 'cat'  this will result in a error\n",
    "\n",
    "b = list(a) # This converts a tuple to a list\n",
    "b[0] = 'cat' # this wont give an error since list are mutable\n",
    "print(a, b)\n",
    "\n"
   ]
  },
  {
   "cell_type": "markdown",
   "id": "899ab631",
   "metadata": {},
   "source": [
    "**Dict** (*Dictionary*)\n",
    "\n",
    "> Python dictionary is an unordered collection of items. Each item of a dictionary has key and a value pair"
   ]
  },
  {
   "cell_type": "code",
   "execution_count": 13,
   "id": "efe6a1f5",
   "metadata": {},
   "outputs": [
    {
     "name": "stdout",
     "output_type": "stream",
     "text": [
      "{'Animal': 'Cat', 'Number': 1, 'Human?': False}\n",
      "{'Animal': 'Cat', 'Number': 1, 'Human?': False}\n"
     ]
    }
   ],
   "source": [
    "a = {'Animal': 'Dog',\n",
    "    'Number': 1,\n",
    "    'Human?': False}\n",
    "\n",
    "b = a\n",
    "b[\"Animal\"] = 'Cat'\n",
    "\n",
    "print(f'{a}\\n{b}')"
   ]
  },
  {
   "cell_type": "markdown",
   "id": "6ec058d1",
   "metadata": {},
   "source": [
    "### How does variable assignment work in the backend?"
   ]
  },
  {
   "cell_type": "code",
   "execution_count": 27,
   "id": "f1189c72",
   "metadata": {},
   "outputs": [
    {
     "name": "stdout",
     "output_type": "stream",
     "text": [
      "memory id for a = 1994398722384\n",
      "memory id for b = 1994398722384\n",
      "\n",
      "Are the memory id's for a and b equal? True\n"
     ]
    }
   ],
   "source": [
    "a = 2\n",
    "print(f\"memory id for a = {id(a)}\")\n",
    "b = a\n",
    "print(f\"memory id for b = {id(b)}\")\n",
    "\n",
    "print(f\"\\nAre the memory id's for a and b equal? {id(b) == id(a)}\")"
   ]
  },
  {
   "cell_type": "markdown",
   "id": "c030264f",
   "metadata": {},
   "source": [
    "What this shows is that the internal memory stores both variables under the same number, therefore when you change b it also changes a. "
   ]
  },
  {
   "cell_type": "code",
   "execution_count": 30,
   "id": "156456c4",
   "metadata": {},
   "outputs": [
    {
     "name": "stdout",
     "output_type": "stream",
     "text": [
      "memory id for a = 1994398722384\n",
      "memory id for b = 1994398722448\n",
      "\n",
      "Are the memory id's for a and b equal? False\n"
     ]
    }
   ],
   "source": [
    "# now lets see with two different integers\n",
    "a = 2\n",
    "b = 4\n",
    "\n",
    "\n",
    "print(f\"memory id for a = {id(a)}\")\n",
    "print(f\"memory id for b = {id(b)}\")\n",
    "\n",
    "print(f\"\\nAre the memory id's for a and b equal? {id(b) == id(a)}\")\n"
   ]
  },
  {
   "cell_type": "markdown",
   "id": "bc92e3f3",
   "metadata": {},
   "source": [
    "As we can clearly see now, that a and b both corrospnd to different numbers, therefore you can freely change a or b without impacting the other. unless we use b = a ofcourse, since that will copy the memory id from a to b."
   ]
  }
 ],
 "metadata": {
  "kernelspec": {
   "display_name": "Python 3 (ipykernel)",
   "language": "python",
   "name": "python3"
  },
  "language_info": {
   "codemirror_mode": {
    "name": "ipython",
    "version": 3
   },
   "file_extension": ".py",
   "mimetype": "text/x-python",
   "name": "python",
   "nbconvert_exporter": "python",
   "pygments_lexer": "ipython3",
   "version": "3.9.7"
  }
 },
 "nbformat": 4,
 "nbformat_minor": 5
}
